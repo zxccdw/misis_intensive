{
 "cells": [
  {
   "cell_type": "markdown",
   "metadata": {},
   "source": [
    "### Виды поиска.\n"
   ]
  },
  {
   "cell_type": "markdown",
   "metadata": {},
   "source": [
    "#### Линейный поиск - поиск, который находит требуемый элемент.\n",
    "\n"
   ]
  },
  {
   "cell_type": "markdown",
   "metadata": {},
   "source": [
    "##### Задача 1.\n",
    "\n",
    "Выведите индекс максимального элемента. Пользоваться  *\"max\"* ,  *\".index\"*  запрещено."
   ]
  },
  {
   "cell_type": "code",
   "execution_count": null,
   "metadata": {
    "vscode": {
     "languageId": "powershell"
    }
   },
   "outputs": [],
   "source": [
    "7\n",
    "9 4 12 5 33 10 -1"
   ]
  },
  {
   "cell_type": "markdown",
   "metadata": {},
   "source": [
    "##### Задача 2.\n",
    "Выведите второй максимум в массиве."
   ]
  },
  {
   "cell_type": "code",
   "execution_count": null,
   "metadata": {
    "vscode": {
     "languageId": "powershell"
    }
   },
   "outputs": [],
   "source": [
    "7\n",
    "9 4 12 5 33 10 -1"
   ]
  },
  {
   "cell_type": "markdown",
   "metadata": {},
   "source": [
    "##### Задача 3.\n",
    "\n",
    "Требуется найти в массиве самый близкий по величине элемент к заданному числу X.\n",
    "\n",
    "Если таких значений несколько, следует вывести наименьшее среди них.\n"
   ]
  },
  {
   "cell_type": "code",
   "execution_count": null,
   "metadata": {
    "vscode": {
     "languageId": "powershell"
    }
   },
   "outputs": [],
   "source": [
    "5\n",
    "1 2 3 4 5\n",
    "6"
   ]
  },
  {
   "cell_type": "markdown",
   "metadata": {},
   "source": [
    "#### Бинарный поиск\n",
    "\n",
    "Вид поиска, который делит по полам **отсортированный** массив.\n",
    "\n",
    "Рекомендуется писать итеративный алгоритм.\n"
   ]
  },
  {
   "cell_type": "markdown",
   "metadata": {},
   "source": [
    "![block-scheme](data/block_binary.png)"
   ]
  },
  {
   "cell_type": "code",
   "execution_count": null,
   "metadata": {},
   "outputs": [],
   "source": [
    "# Можно играться с включением границ, для того, чтобы находить самый левый или самый правый элемент.\n",
    "l = -1 # для поиска элемента в массиве ar\n",
    "r = len(ar)    \n",
    "while r - l != 1:\n",
    "    m = l + (r - l) // 2\n",
    "    if ar[m] >= x:\n",
    "        r = m\n",
    "    else:\n",
    "        l = m"
   ]
  },
  {
   "cell_type": "markdown",
   "metadata": {},
   "source": [
    "##### Задача 0.\n",
    "\n",
    "Реализуйте алгоритм бинарного поиска.\n",
    "\n",
    "Входные данные\n",
    "В первой строке входных данных содержатся натуральные числа. Во второй строке задаются 𝑁 элементов первого массива, отсортированного по возрастанию, а в третьей строке – 𝐾 элементов второго массива. Элементы обоих массивов - целые числа, каждое из которых по модулю не превосходит 109\n",
    "\n",
    "Выходные данные\n",
    "Требуется для каждого из K чисел вывести в отдельную строку \"YES\", если это число встречается в первом массиве, и \"NO\" в противном случае."
   ]
  },
  {
   "cell_type": "code",
   "execution_count": null,
   "metadata": {
    "vscode": {
     "languageId": "powershell"
    }
   },
   "outputs": [],
   "source": [
    "10 5\n",
    "1 2 3 4 5 6 7 8 9 10 \n",
    "-2 0 4 9 12\n",
    "\n",
    "NO\n",
    "NO\n",
    "YES\n",
    "YES\n",
    "NO"
   ]
  },
  {
   "cell_type": "markdown",
   "metadata": {},
   "source": [
    "##### Задча 1.\n",
    "\n",
    "Реализуйте алгоритм приближенного бинарного поиска.\n",
    "\n",
    "Входные данные\n",
    "В первой строке входных данных содержатся числа 𝑁 и 𝐾. Во второй строке задаются 𝑁 чисел первого массива, отсортированного по неубыванию, а в третьей строке – 𝐾 чисел второго массива. Каждое число в обоих массивах по модулю не превосходит $2 * 10^9$.\n",
    "\n"
   ]
  },
  {
   "cell_type": "code",
   "execution_count": null,
   "metadata": {
    "vscode": {
     "languageId": "powershell"
    }
   },
   "outputs": [],
   "source": [
    "5 5\n",
    "1 3 5 7 9 \n",
    "2 4 8 1 6"
   ]
  },
  {
   "cell_type": "code",
   "execution_count": null,
   "metadata": {
    "vscode": {
     "languageId": "powershell"
    }
   },
   "outputs": [],
   "source": [
    "1\n",
    "3\n",
    "7\n",
    "1\n",
    "5"
   ]
  },
  {
   "cell_type": "markdown",
   "metadata": {},
   "source": [
    "#### Бинпоиск не только для массивов!\n",
    "\n",
    "Бинарный поиск обычно используется для монотонных функций (могуты быть как возрастающими, так и убывающими)"
   ]
  },
  {
   "cell_type": "markdown",
   "metadata": {},
   "source": [
    "![example-function](data/function.png)"
   ]
  },
  {
   "cell_type": "markdown",
   "metadata": {},
   "source": [
    "##### Задача 2.\n",
    "\n",
    "Найдите такое число 𝑥, что $x^2 + \\sqrt x = C$, с точностью не менее 6 знаков после точки.\n",
    "Выведите одно число — искомый 𝑥.\n",
    "\n",
    "*Не забудьте использовать eps для нахождения погрешности*"
   ]
  },
  {
   "cell_type": "code",
   "execution_count": null,
   "metadata": {
    "vscode": {
     "languageId": "powershell"
    }
   },
   "outputs": [],
   "source": [
    "2.0000000000"
   ]
  },
  {
   "cell_type": "code",
   "execution_count": null,
   "metadata": {
    "vscode": {
     "languageId": "powershell"
    }
   },
   "outputs": [],
   "source": [
    "\n",
    "1.000000000"
   ]
  },
  {
   "cell_type": "markdown",
   "metadata": {},
   "source": [
    "##### *Задача 3. \n",
    "Сегодня утром жюри решило добавить в вариант олимпиады еще одну, Очень Легкую Задачу. Ответственный секретарь Оргкомитета напечатал ее условие в одном экземпляре, и теперь ему нужно до начала олимпиады успеть сделать еще N копий. В его распоряжении имеются два ксерокса, один из которых копирует лист за х секунд, а другой – за y. (Разрешается использовать как один ксерокс, так и оба одновременно. Можно копировать не только с оригинала, но и с копии.) Помогите ему выяснить, какое минимальное время для этого потребуется.\n",
    "\n",
    "На вход программы поступают три натуральных числа N, x и y, разделенные пробелом\n",
    "\n",
    "Выведите одно число – минимальное время в секундах, необходимое для получения N копий."
   ]
  },
  {
   "cell_type": "code",
   "execution_count": null,
   "metadata": {
    "vscode": {
     "languageId": "powershell"
    }
   },
   "outputs": [],
   "source": [
    "4 1 1"
   ]
  },
  {
   "cell_type": "code",
   "execution_count": null,
   "metadata": {
    "vscode": {
     "languageId": "powershell"
    }
   },
   "outputs": [],
   "source": [
    "3"
   ]
  }
 ],
 "metadata": {
  "kernelspec": {
   "display_name": "back_train",
   "language": "python",
   "name": "python3"
  },
  "language_info": {
   "codemirror_mode": {
    "name": "ipython",
    "version": 3
   },
   "file_extension": ".py",
   "mimetype": "text/x-python",
   "name": "python",
   "nbconvert_exporter": "python",
   "pygments_lexer": "ipython3",
   "version": "3.9.17"
  }
 },
 "nbformat": 4,
 "nbformat_minor": 2
}
