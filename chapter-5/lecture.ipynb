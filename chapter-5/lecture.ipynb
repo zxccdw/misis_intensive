{
 "cells": [
  {
   "cell_type": "markdown",
   "metadata": {},
   "source": [
    "### Виды поиска."
   ]
  },
  {
   "cell_type": "markdown",
   "metadata": {},
   "source": [
    "#### Линейный поиск - поиск, который находит требуемый элемент.\n",
    "\n"
   ]
  },
  {
   "cell_type": "markdown",
   "metadata": {},
   "source": [
    "##### Задача 1.\n",
    "\n",
    "Выведите индекс максимального элемента. Пользоваться  *\"max\"* ,  *\".index\"*  запрещено."
   ]
  },
  {
   "cell_type": "code",
   "execution_count": null,
   "metadata": {
    "vscode": {
     "languageId": "powershell"
    }
   },
   "outputs": [],
   "source": [
    "7\n",
    "9 4 12 5 33 10 -1"
   ]
  },
  {
   "cell_type": "code",
   "execution_count": 6,
   "metadata": {},
   "outputs": [
    {
     "name": "stdout",
     "output_type": "stream",
     "text": [
      "0: 9, 0\n",
      "1: 9, 0\n",
      "2: 12, 2\n",
      "3: 12, 2\n",
      "4: 33, 4\n",
      "5: 33, 4\n",
      "6: 33, 4\n"
     ]
    }
   ],
   "source": [
    "n = int(input())\n",
    "ar = list(map(int, input().split()))\n",
    "\n",
    "mx = ar[0]\n",
    "ind = 0\n",
    "\n",
    "for i in range(n):\n",
    "    if mx < ar[i]:\n",
    "        mx = ar[i]\n",
    "        ind = i\n",
    "        \n",
    "    # print(\"{}: {}, {}\".format(i, mx, ind))\n",
    "        \n",
    "print(ind)\n",
    "        \n"
   ]
  },
  {
   "cell_type": "markdown",
   "metadata": {},
   "source": [
    "##### Задача 2.\n",
    "Выведите второй максимум в массиве.  $N > 2$"
   ]
  },
  {
   "cell_type": "code",
   "execution_count": null,
   "metadata": {
    "vscode": {
     "languageId": "powershell"
    }
   },
   "outputs": [],
   "source": [
    "7\n",
    "9 4 12 5 33 15 -1"
   ]
  },
  {
   "cell_type": "code",
   "execution_count": 13,
   "metadata": {},
   "outputs": [
    {
     "name": "stdout",
     "output_type": "stream",
     "text": [
      "33 15\n"
     ]
    }
   ],
   "source": [
    "n = int(input())\n",
    "ar = list(map(int, input().split()))\n",
    "\n",
    "mx_f, mx_s = max(ar[0], ar[1]), min(ar[0], ar[1])\n",
    "\n",
    "for i in range(2, n):\n",
    "    if mx_f < ar[i]:\n",
    "        mx_f, mx_s = ar[i], mx_f\n",
    "    elif mx_s < ar[i]:\n",
    "        mx_s = ar[i]\n",
    "    \n",
    "print(mx_f, mx_s)\n",
    "    \n"
   ]
  },
  {
   "cell_type": "markdown",
   "metadata": {},
   "source": [
    "##### Задача 3.\n",
    "\n",
    "Требуется найти в массиве самый близкий по величине элемент к заданному числу X.\n",
    "\n",
    "Если таких значений несколько, следует вывести наименьшее среди них.\n"
   ]
  },
  {
   "cell_type": "code",
   "execution_count": null,
   "metadata": {
    "vscode": {
     "languageId": "powershell"
    }
   },
   "outputs": [],
   "source": [
    "6\n",
    "1 2 3 4 7 5\n",
    "6"
   ]
  },
  {
   "cell_type": "code",
   "execution_count": 23,
   "metadata": {},
   "outputs": [
    {
     "name": "stdout",
     "output_type": "stream",
     "text": [
      "5 1\n",
      "4 2\n",
      "3 3\n",
      "2 4\n",
      "1 7\n",
      "1 5\n"
     ]
    }
   ],
   "source": [
    "n = int(input())\n",
    "ar = list(map(int, input().split()))\n",
    "x = int(input())\n",
    "ans = 10 ** 9\n",
    "\n",
    "for i in range(n):\n",
    "    if abs(ar[i] - x) < ans:\n",
    "        ans = abs(ar[i] - x)\n",
    "        ans_el = ar[i]\n",
    "    elif abs(ar[i] - x) == ans and ar[i] < ans_el:\n",
    "        ans_el = ar[i]\n",
    "        \n",
    "    print(ans, ans_el)\n",
    "\n",
    "# O(n)\n",
    "# O(n^2) || O(n*logn)\n",
    "\n"
   ]
  },
  {
   "cell_type": "markdown",
   "metadata": {},
   "source": [
    "#### Бинарный поиск\n",
    "\n",
    "Вид поиска, который делит по полам **отсортированный** массив.\n",
    "\n",
    "Рекомендуется писать итеративный алгоритм.\n",
    "\n",
    "*асимптотическая сложность?*"
   ]
  },
  {
   "cell_type": "markdown",
   "metadata": {},
   "source": [
    "![block-scheme](data/block_binary.png)\n",
    "\n",
    "1 100\n",
    "50 >\n",
    "\n",
    "50 - 100\n",
    "75 >\n",
    "75 100 \n",
    "88 <\n",
    "....\n",
    "\n",
    "77 78\n"
   ]
  },
  {
   "cell_type": "code",
   "execution_count": 38,
   "metadata": {},
   "outputs": [
    {
     "name": "stdout",
     "output_type": "stream",
     "text": [
      "7 9\n"
     ]
    }
   ],
   "source": [
    "# Можно играться с включением границ, для того, чтобы находить самый левый или самый правый элемент.\n",
    "x = 7\n",
    "    # 0  1  2  3  4  5  6  7  8  9  10\n",
    "ar = [1, 2, 3, 4, 5, 6, 7, 7, 7, 7, 8, 9, 10]\n",
    "    # ^                 ^                     ^ \n",
    "    # l                 l                     r \n",
    "l = 0 # для поиска элемента в массиве ar\n",
    "r = len(ar)    \n",
    "while r - l != 1:\n",
    "    10 ** 9\n",
    "    m = l + (r - l) // 2\n",
    "    if ar[m] < x:\n",
    "        l = m\n",
    "    else:\n",
    "        r = m\n",
    "        \n",
    "print(ar[r], r)"
   ]
  },
  {
   "cell_type": "markdown",
   "metadata": {},
   "source": [
    "##### Задача 0.\n",
    "\n",
    "Реализуйте алгоритм бинарного поиска.\n",
    "\n",
    "Входные данные\n",
    "В первой строке входных данных содержатся натуральные числа. Во второй строке задаются 𝑁 элементов первого массива, отсортированного по возрастанию, а в третьей строке – 𝐾 элементов второго массива. Элементы обоих массивов - целые числа, каждое из которых по модулю не превосходит 109\n",
    "\n",
    "Выходные данные\n",
    "Требуется для каждого из K чисел вывести в отдельную строку \"YES\", если это число встречается в первом массиве, и \"NO\" в противном случае."
   ]
  },
  {
   "cell_type": "code",
   "execution_count": 46,
   "metadata": {
    "vscode": {
     "languageId": "powershell"
    }
   },
   "outputs": [
    {
     "ename": "SyntaxError",
     "evalue": "invalid syntax (785819258.py, line 1)",
     "output_type": "error",
     "traceback": [
      "\u001b[0;36m  Cell \u001b[0;32mIn[46], line 1\u001b[0;36m\u001b[0m\n\u001b[0;31m    10 3\u001b[0m\n\u001b[0m       ^\u001b[0m\n\u001b[0;31mSyntaxError\u001b[0m\u001b[0;31m:\u001b[0m invalid syntax\n"
     ]
    }
   ],
   "source": [
    "10 5\n",
    "1 2 3 4 5 6 7 8 9 10 \n",
    "-2 0 4 9 12\n",
    "\n",
    "NO\n",
    "NO\n",
    "YES\n",
    "YES\n",
    "NO"
   ]
  },
  {
   "cell_type": "code",
   "execution_count": 52,
   "metadata": {},
   "outputs": [
    {
     "name": "stdout",
     "output_type": "stream",
     "text": [
      "NO\n",
      "NO\n",
      "YES\n",
      "YES\n",
      "NO\n"
     ]
    }
   ],
   "source": [
    "def bin_search(x: int) -> bool:\n",
    "    l, r = 0, len(ar) - 1\n",
    "    while r - l != 1:\n",
    "        m = l + (r - l) // 2\n",
    "        if ar[m] < x:   \n",
    "            l = m\n",
    "        else:\n",
    "            r = m\n",
    "    \n",
    "    if ar[l] == x or ar[r] == x:\n",
    "        return 1\n",
    "    \n",
    "    return 0\n",
    "\n",
    "\n",
    "n, k = 10, 5 #map(int, input().split())\n",
    "ar = [1, 2, 3, 4, 5, 6, 7, 8, 9, 10] # list(map(int, input().split()))\n",
    "req_ar = [-2, 0, 4, 9, 12] # list(map(int, input().split()))\n",
    "\n",
    "for el in req_ar:\n",
    "    if bin_search(el):\n",
    "        print(\"YES\")\n",
    "    else:\n",
    "        print(\"NO\")\n",
    "\n"
   ]
  },
  {
   "cell_type": "markdown",
   "metadata": {},
   "source": [
    "##### Задача 1.\n",
    "\n",
    "Реализуйте алгоритм приближенного бинарного поиска.\n",
    "\n",
    "Входные данные\n",
    "В первой строке входных данных содержатся числа 𝑁 и 𝐾. Во второй строке задаются 𝑁 чисел первого массива, отсортированного по неубыванию, а в третьей строке – 𝐾 чисел второго массива. Каждое число в обоих массивах по модулю не превосходит $2 * 10^9$.\n",
    "\n"
   ]
  },
  {
   "cell_type": "code",
   "execution_count": null,
   "metadata": {
    "vscode": {
     "languageId": "powershell"
    }
   },
   "outputs": [],
   "source": [
    "5 5\n",
    "1 3 5 7 9 \n",
    "2 4 8 1 6"
   ]
  },
  {
   "cell_type": "code",
   "execution_count": null,
   "metadata": {
    "vscode": {
     "languageId": "powershell"
    }
   },
   "outputs": [],
   "source": [
    "1\n",
    "3\n",
    "7\n",
    "1\n",
    "5"
   ]
  },
  {
   "cell_type": "code",
   "execution_count": 54,
   "metadata": {},
   "outputs": [
    {
     "name": "stdout",
     "output_type": "stream",
     "text": [
      "1\n",
      "3\n",
      "7\n",
      "1\n",
      "5\n"
     ]
    }
   ],
   "source": [
    "#  3\n",
    "#  1 2 5 6\n",
    "#    ^ ^\n",
    "#    l r\n",
    "   \n",
    "   \n",
    "def bin_search(x: int) -> int:\n",
    "    l, r = 0, len(ar) - 1\n",
    "    while r - l != 1:\n",
    "        m = l + (r - l) // 2\n",
    "        if ar[m] < x:   \n",
    "            l = m\n",
    "        else:\n",
    "            r = m\n",
    "    \n",
    "    if abs(ar[l] - x) <= abs(ar[r] - x):\n",
    "        return ar[l]\n",
    "    \n",
    "    return ar[r]\n",
    "        \n",
    "\n",
    "n, k = 5, 5 #map(int, input().split())\n",
    "ar = [1, 3, 5, 7, 9] # list(map(int, input().split()))\n",
    "req_ar = [2, 4, 8, 1, 6] # list(map(int, input().split()))\n",
    "\n",
    "for el in req_ar:\n",
    "    print(bin_search(el))\n"
   ]
  },
  {
   "cell_type": "markdown",
   "metadata": {},
   "source": [
    "#### Бинпоиск не только для массивов!\n",
    "\n",
    "Бинарный поиск обычно используется для монотонных функций (могуты быть как возрастающими, так и убывающими)"
   ]
  },
  {
   "cell_type": "markdown",
   "metadata": {},
   "source": [
    "![example-function](data/funct.png)\n"
   ]
  },
  {
   "cell_type": "markdown",
   "metadata": {},
   "source": [
    "##### Задача 2.\n",
    "\n",
    "Найдите такое число 𝑥, что $x^2 + \\sqrt x = C$, с точностью не менее 6 знаков после точки.\n",
    "Выведите одно число — искомый 𝑥.\n",
    "\n",
    "*Не забудьте использовать eps для нахождения погрешности*"
   ]
  },
  {
   "cell_type": "code",
   "execution_count": null,
   "metadata": {
    "vscode": {
     "languageId": "powershell"
    }
   },
   "outputs": [],
   "source": [
    "2.0000000000"
   ]
  },
  {
   "cell_type": "code",
   "execution_count": null,
   "metadata": {
    "vscode": {
     "languageId": "powershell"
    }
   },
   "outputs": [],
   "source": [
    "\n",
    "1.000000000"
   ]
  },
  {
   "cell_type": "markdown",
   "metadata": {},
   "source": [
    "##### *Задача 3. \n",
    "Сегодня утром жюри решило добавить в вариант олимпиады еще одну, Очень Легкую Задачу. Ответственный секретарь Оргкомитета напечатал ее условие в одном экземпляре, и теперь ему нужно до начала олимпиады успеть сделать еще N копий. В его распоряжении имеются два ксерокса, один из которых копирует лист за х секунд, а другой – за y. (Разрешается использовать как один ксерокс, так и оба одновременно. Можно копировать не только с оригинала, но и с копии.) Помогите ему выяснить, какое минимальное время для этого потребуется.\n",
    "\n",
    "На вход программы поступают три натуральных числа N, x и y, разделенные пробелом\n",
    "\n",
    "Выведите одно число – минимальное время в секундах, необходимое для получения N копий."
   ]
  },
  {
   "cell_type": "code",
   "execution_count": null,
   "metadata": {
    "vscode": {
     "languageId": "powershell"
    }
   },
   "outputs": [],
   "source": [
    "4 1 1"
   ]
  },
  {
   "cell_type": "code",
   "execution_count": null,
   "metadata": {
    "vscode": {
     "languageId": "powershell"
    }
   },
   "outputs": [],
   "source": [
    "3"
   ]
  }
 ],
 "metadata": {
  "kernelspec": {
   "display_name": "back_train",
   "language": "python",
   "name": "python3"
  },
  "language_info": {
   "codemirror_mode": {
    "name": "ipython",
    "version": 3
   },
   "file_extension": ".py",
   "mimetype": "text/x-python",
   "name": "python",
   "nbconvert_exporter": "python",
   "pygments_lexer": "ipython3",
   "version": "3.9.17"
  }
 },
 "nbformat": 4,
 "nbformat_minor": 2
}
