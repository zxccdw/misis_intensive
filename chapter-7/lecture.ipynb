{
 "cells": [
  {
   "cell_type": "markdown",
   "metadata": {},
   "source": [
    "## Алгоритмы хэширования"
   ]
  },
  {
   "cell_type": "markdown",
   "metadata": {},
   "source": [
    "### Парадокс дней рождений\n",
    "\n",
    "\n",
    "Требуется определить вероятность того, что в группе из n человек как минимум у двух из них дни рождения совпадут.\n",
    "\n",
    "Пусть дни рождения распределены равномерно, то есть примем, что:\n",
    "\n",
    "в году 365 дней (нет високосных лет);\n",
    "в группе нет людей, заведомо родившихся в один день (например, близнецов);\n",
    "рождаемость не зависит от дня недели, времени года и других факторов.\n",
    "\n",
    " Возьмём наугад одного человека из группы и запомним его день рождения. Затем возьмём наугад второго человека, при этом вероятность того, что у него день рождения не совпадёт с днем рождения первого человека, равна  $1 - \\frac{1}{365}$, для второго $1 - \\frac{2}{365}$ и т.д\n",
    "\n",
    "\n",
    "Ссылка на статью: https://ru.wikipedia.org/wiki/Парадокс_дней_рождения"
   ]
  },
  {
   "cell_type": "code",
   "execution_count": 5,
   "metadata": {},
   "outputs": [
    {
     "name": "stdout",
     "output_type": "stream",
     "text": [
      "4.831047413228118\n"
     ]
    }
   ],
   "source": [
    "from math import factorial\n",
    "\n",
    "def p(n: int) -> float:\n",
    "    return 1 - (factorial(100000) / (100000 ** n * factorial(100000 - n)))\n",
    "\n",
    "\n",
    "# n = int(input())\n",
    "n = 100\n",
    "print(p(n) * 100)"
   ]
  },
  {
   "cell_type": "markdown",
   "metadata": {},
   "source": [
    "### Хеширование"
   ]
  },
  {
   "cell_type": "markdown",
   "metadata": {},
   "source": [
    "Алгоритмы хэширования строк помогают решить очень много задач. Но у них есть большой недостаток: что чаще всего они не 100%-ны, поскольку есть множество строк, хэши которых совпадают. Другое дело, что в большинстве задач на это можно не обращать внимания, поскольку вероятность совпадения хэшей всё-таки очень мала."
   ]
  },
  {
   "cell_type": "markdown",
   "metadata": {},
   "source": [
    "$h(S)  =  S[0] * P^0  +  S[1] * P  +  S[2] * P^2  +  S[3] * P^3  +  ...  +  S[N] * P^N$"
   ]
  },
  {
   "cell_type": "markdown",
   "metadata": {},
   "source": [
    "Очевидно, что при большой длине строки хеш будет переполнять размеры *int*, *long long*. (На питоне у нас будет тянуться длинная арифметика)"
   ]
  },
  {
   "cell_type": "markdown",
   "metadata": {},
   "source": [
    "Для этого формула дополняется взятием остатка по модулю для каждого члена. "
   ]
  },
  {
   "cell_type": "markdown",
   "metadata": {},
   "source": [
    "$h(S)  =  S[0]*P^0  \\%  MOD  +  S[1] * P \\% MOD  +  S[2] * P^2 \\% MOD  +  S[3] * P^3 \\% MOD +  ...  +  S[N] * P^N \\% MOD$"
   ]
  },
  {
   "cell_type": "code",
   "execution_count": null,
   "metadata": {},
   "outputs": [],
   "source": [
    "123 % 3 = 0     \"aa\" ? \"bb\"\n",
    "60 % 3 = 0\n",
    "\n"
   ]
  },
  {
   "cell_type": "markdown",
   "metadata": {},
   "source": [
    "Какие числа выбрать для P и MOD?\n",
    "- Для MOD рекомендуется \"Большое простое число\", например, $10^9 + 9$\n",
    "- Если же входные данные могут содержать как прописные, так и строчные буквы, то  возможен выбор p = 53. Если используются прописные и строчные буквы русского алфавита, а также символ пробел, то возможет выбор p = 67. Обычно это 53."
   ]
  },
  {
   "cell_type": "markdown",
   "metadata": {},
   "source": [
    "Проблема: из-за взятия остатка может возникнуть **коллизия хеша**. (из-за закольцовывания остатков, можно доказать по принципу Дирихле).\n",
    "Для этого используется двойное хеширование или дополнения для хеш-таблиц"
   ]
  },
  {
   "cell_type": "markdown",
   "metadata": {},
   "source": [
    "#### Задача о сравнении двух строк"
   ]
  },
  {
   "cell_type": "markdown",
   "metadata": {},
   "source": [
    "Идея: сравнить длину и хэш строки"
   ]
  },
  {
   "cell_type": "code",
   "execution_count": 20,
   "metadata": {},
   "outputs": [
    {
     "name": "stdout",
     "output_type": "stream",
     "text": [
      "YES\n"
     ]
    }
   ],
   "source": [
    "f_st = input()\n",
    "s_st = input()\n",
    "\n",
    "x_ = 53\n",
    "mod_ = 10 ** 9 + 9\n",
    "\n",
    "def hash_st(st: str) -> int:\n",
    "    h = 0\n",
    "    for i in st:\n",
    "        h += (h * x_ + (ord(i) - ord('a') + 1)) % mod_\n",
    "    return h\n",
    "\n",
    "\n",
    "# print(hash_st(f_st))\n",
    "# print(hash_st(s_st))\n",
    "\n",
    "if len(f_st) == len(s_st) and hash_st(f_st) == hash_st(s_st):\n",
    "    print(\"YES\")\n",
    "else:\n",
    "    print(\"NO\")\n",
    "\n",
    "\n"
   ]
  },
  {
   "cell_type": "markdown",
   "metadata": {},
   "source": [
    "#### Задача о подсчете одинаковых строк"
   ]
  },
  {
   "cell_type": "markdown",
   "metadata": {},
   "source": [
    "Идея: составить массив пар (хэш, длина) для каждой строки. отсортировать"
   ]
  },
  {
   "cell_type": "code",
   "execution_count": 8,
   "metadata": {},
   "outputs": [
    {
     "name": "stdout",
     "output_type": "stream",
     "text": [
      "2\n",
      "[[939, 2], [3946, 3], [3946, 3], [5942, 3], [5942, 3]]\n"
     ]
    }
   ],
   "source": [
    "n = int(input())\n",
    "ar = []\n",
    "\n",
    "\n",
    "# asd\n",
    "# asd\n",
    "# bbb\n",
    "# qu\n",
    "# bbb\n",
    "\n",
    "for i in range(n):\n",
    "    ar.append(input())\n",
    "\n",
    "x_ = 153\n",
    "mod_ = 10 ** 9 + 9\n",
    "\n",
    "\n",
    "def hash_st(st: str) -> int:\n",
    "    h = 0\n",
    "    for i in st:\n",
    "        h += (h * 257 + (ord(i) - ord('a') + 1)) % mod_\n",
    "    return h\n",
    "\n",
    "\n",
    "def second_hash_st(st: str)\n",
    "    h = 0\n",
    "    for i in st:\n",
    "        h += (h * x_ + (ord(i) - ord('a') + 1)) % (10 ** 9 + 7)\n",
    "    return h\n",
    "\n",
    "\n",
    "hash_list = []\n",
    "for cur_st in ar:\n",
    "    hash_list.append([hash_st(cur_st), len(cur_st)])\n",
    "    \n",
    "hash_list.sort()\n",
    "\n",
    "cnt = 0\n",
    "\n",
    "\n",
    "for i in range(1, n):\n",
    "    if hash_list[i - 1][0] == hash_list[i][0] and hash_list[i - 1][1] == hash_list[i][1]:\n",
    "        cnt += 1\n",
    "    \n",
    "\n",
    "print(cnt)\n",
    "# print(hash_list)\n"
   ]
  },
  {
   "cell_type": "markdown",
   "metadata": {},
   "source": [
    "#### Задача о сравнении подстрок \n",
    "\n",
    "Дана строка S, состоящая из строчных латинских букв.\n",
    "Определите, совпадают ли строки одинаковой длины L, начинающиеся с позиций A и B.\n",
    "\n",
    "В первой строке записана S (1 ≤ |S| ≤ 2 ⋅ 105), состоящая из строчных латинских букв.\n",
    "Во второй строке записано число Q (1 ≤ Q ≤ 2 ⋅ 105) — количество запросов.\n",
    "В следющих Q строках записаны запросы: целые числа L, A и B (1 ≤ L ≤ |S|, 0 ≤ A, B ≤ (|S| - L)) — длина подстрок и позиции, с которых они начинаются.\n"
   ]
  },
  {
   "cell_type": "code",
   "execution_count": null,
   "metadata": {
    "vscode": {
     "languageId": "shellscript"
    }
   },
   "outputs": [],
   "source": [
    "acabaca\n",
    "3\n",
    "4 3 2\n",
    "3 4 0\n",
    "2 0 1"
   ]
  },
  {
   "cell_type": "markdown",
   "metadata": {},
   "source": [
    "Идея: научиться сравнивать хэши построк"
   ]
  },
  {
   "cell_type": "markdown",
   "metadata": {},
   "source": [
    "![f_hint](data/1.png)\n",
    "![s_hint](data/2.png)"
   ]
  },
  {
   "cell_type": "code",
   "execution_count": null,
   "metadata": {},
   "outputs": [],
   "source": [
    "s = input()\n",
    "n = len(s)\n",
    "p = 10**9 + 7\n",
    "x_ = 257\n",
    "h = [0] * (n + 1)\n",
    "x = [0] * (n + 1)\n",
    "x[0] = 1\n",
    "s = ' ' + s\n",
    "for i in range(1, n + 1):\n",
    "    h[i] = (h[i - 1] * x_ + ord(s[i])) % p\n",
    "    x[i] = (x[i - 1] * x_) % p # текущий коэффициента уравнения\n",
    "\n",
    "def isequal(from1, from2, slen):\n",
    "    return ((h[from1 + slen - 1] + h[from2 - 1] * x[slen]) % p) == ((h[from2 + slen - 1] + h[from1 - 1] * x[slen]) % p)\n",
    "\n",
    "for i in range(int(input())):\n",
    "    l, a, b = map(int, input().split())\n",
    "    ans = isequal(a + 1, b + 1, l)\n",
    "    if ans:\n",
    "        print(\"yes\")\n",
    "    else:\n",
    "        print(\"no\")"
   ]
  },
  {
   "cell_type": "markdown",
   "metadata": {},
   "source": [
    "#### Хеш-таблицы\n",
    "\n",
    "Встроенные - set, map\n",
    "\n",
    "Виды хеш-таблиц:\n",
    "- открытые \n",
    "- закрытые"
   ]
  },
  {
   "cell_type": "markdown",
   "metadata": {},
   "source": [
    "Интерфейс хеш-таблицы\n",
    "- добавить\n",
    "- найти\n",
    "- удалить\n",
    "- изменить"
   ]
  },
  {
   "cell_type": "markdown",
   "metadata": {},
   "source": [
    "![open_table](data/t49_1.jpg)\n",
    "![close_table](data/t49_2.jpg)"
   ]
  },
  {
   "cell_type": "markdown",
   "metadata": {},
   "source": [
    "Слева открытая таблица. Для конфликтующие значений элемент вставляется по индексу + шаг (пока не найдем свободную ячейку)\n",
    "Справа закрытая. Для конфликтующие значений элемент добавляется в массив"
   ]
  },
  {
   "cell_type": "markdown",
   "metadata": {},
   "source": [
    "#### Полезные ссылки:\n",
    "\n",
    "Тренировка по алгоритмам 4.0 от яндекса: https://www.youtube.com/watch?v=nSgDk6P_8pI"
   ]
  }
 ],
 "metadata": {
  "kernelspec": {
   "display_name": "back_train",
   "language": "python",
   "name": "python3"
  },
  "language_info": {
   "codemirror_mode": {
    "name": "ipython",
    "version": 3
   },
   "file_extension": ".py",
   "mimetype": "text/x-python",
   "name": "python",
   "nbconvert_exporter": "python",
   "pygments_lexer": "ipython3",
   "version": "3.11.6"
  }
 },
 "nbformat": 4,
 "nbformat_minor": 2
}
