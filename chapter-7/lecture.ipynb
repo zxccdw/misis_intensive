{
 "cells": [
  {
   "cell_type": "markdown",
   "metadata": {},
   "source": [
    "## Сортировки"
   ]
  },
  {
   "cell_type": "markdown",
   "metadata": {},
   "source": [
    "Устойчивость сортировки - ???"
   ]
  },
  {
   "cell_type": "code",
   "execution_count": null,
   "metadata": {},
   "outputs": [],
   "source": [
    "10 9 8 7 1(1) 354 1(2) 3245 5 1(3) 9 1(4)\n",
    "1 1 1 1\n",
    "(1, 323), (423)\n"
   ]
  },
  {
   "cell_type": "markdown",
   "metadata": {},
   "source": [
    "### Сортировка выбором\n",
    "\n",
    "1. В неотсортированном подмассиве ищется локальный минимум.\n",
    "2. Найденный максимум минимум меняется местами с последним (первым) элементом в подмассиве.\n",
    "3. Если в массиве остались неотсортированные подмассивы — смотри пункт 1."
   ]
  },
  {
   "cell_type": "markdown",
   "metadata": {},
   "source": [
    "![selection_sort](data/selection_sort.gif)"
   ]
  },
  {
   "cell_type": "code",
   "execution_count": 12,
   "metadata": {},
   "outputs": [
    {
     "name": "stdout",
     "output_type": "stream",
     "text": [
      "[[0, 1], [0, 9], [3, 5], [8, 1], [8, 0]]\n"
     ]
    }
   ],
   "source": [
    "def selection_sort(ar: list):\n",
    "    n = len(ar)\n",
    "    for i in range(n):\n",
    "        min_ind = i\n",
    "        for j in range(i + 1, n):\n",
    "            if ar[min_ind][0] > ar[j][0]:\n",
    "                min_ind = j\n",
    "                ar[min_ind], ar[i] = ar[i], ar[min_ind]\n",
    "    return ar\n",
    "\n",
    "l = [[8, 0], [3, 5], [0, 9], [8, 1], [0, 1]]\n",
    "\n",
    "print(selection_sort(l))\n",
    "            "
   ]
  },
  {
   "cell_type": "markdown",
   "metadata": {},
   "source": [
    "### Сортировка вставками"
   ]
  },
  {
   "cell_type": "markdown",
   "metadata": {},
   "source": [
    "1. Берется (первый) элемент  \n",
    "2. Вставляется на нужное место, делая смещение."
   ]
  },
  {
   "cell_type": "markdown",
   "metadata": {},
   "source": [
    "![insertion-sort](data/Insertion_sort.gif)"
   ]
  },
  {
   "cell_type": "code",
   "execution_count": 14,
   "metadata": {},
   "outputs": [
    {
     "name": "stdout",
     "output_type": "stream",
     "text": [
      "[[1, 2], [2, 1], [2, 2], [5, 10]]\n"
     ]
    }
   ],
   "source": [
    "# 3 5 7 1 3 6\n",
    "# 1 3 5 7\n",
    "\n",
    "def insertion_sort(ar: list):\n",
    "    n = len(ar)\n",
    "    for i in range(1, n):\n",
    "        key = ar[i]\n",
    "        j = i - 1\n",
    "        while j >= 0 and key[0] < ar[j][0]:\n",
    "            ar[j + 1] = ar[j]\n",
    "            j -= 1\n",
    "        ar[j + 1] = key\n",
    "        \n",
    "    return ar\n",
    "\n",
    "l = [[5, 10], [2, 1], [2, 2], [1, 2]]\n",
    "\n",
    "print(insertion_sort(l))\n",
    "         "
   ]
  },
  {
   "cell_type": "markdown",
   "metadata": {},
   "source": [
    "### Сортировка пузырьком"
   ]
  },
  {
   "cell_type": "markdown",
   "metadata": {},
   "source": [
    "![bubble-sort](data/bubble_sort.gif)"
   ]
  },
  {
   "cell_type": "code",
   "execution_count": null,
   "metadata": {},
   "outputs": [],
   "source": [
    "3 5 21 7 1 3 6 5\n",
    "\n",
    "def bubble_sort(arr):\n",
    "    \n",
    "    \n",
    "l = list(map(int, \"3 5 21 7 1 3 6 5\".split()))\n",
    "\n",
    "    "
   ]
  },
  {
   "cell_type": "markdown",
   "metadata": {},
   "source": [
    "### Сортировка слиянием\n"
   ]
  },
  {
   "cell_type": "markdown",
   "metadata": {},
   "source": [
    "![bubble-sort](data/merge_sort.gif)"
   ]
  },
  {
   "cell_type": "code",
   "execution_count": null,
   "metadata": {},
   "outputs": [],
   "source": [
    "9 5 6 1  3 1 5 7\n",
    "\n",
    "1 5 6 9         1 3 5 7\n",
    "5 9     1 6     1 3       5 7\n",
    "9  5   6  1   3  1   5  7\n",
    "\n",
    "\n",
    "def merge_sort(arr):\n",
    "    if len(arr) <= 1:\n",
    "        return arr\n",
    "    mid = len(arr) // 2\n",
    "    left_half = arr[:mid]\n",
    "    right_half = arr[mid:]\n",
    "    return merge(merge_sort(left_half), merge_sort(right_half))\n",
    "\n",
    "\n",
    "def merge(left, right):\n",
    "    merged = []\n",
    "    left_index = 0\n",
    "    right_index = 0\n",
    "    while left_index < len(left) and right_index < len(right):\n",
    "        if left[left_index] <= right[right_index]:\n",
    "            merged.append(left[left_index])\n",
    "            left_index += 1\n",
    "        else:\n",
    "            merged.append(right[right_index])\n",
    "            right_index += 1\n",
    "        \n",
    "    merged.extend(left[left_index:])\n",
    "    merged.extend(right[right_index:])\n",
    "    return merged"
   ]
  },
  {
   "cell_type": "markdown",
   "metadata": {},
   "source": [
    "Сортировка за O(n) - сортировка подсчетом"
   ]
  },
  {
   "cell_type": "code",
   "execution_count": 36,
   "metadata": {},
   "outputs": [
    {
     "name": "stdout",
     "output_type": "stream",
     "text": [
      "[[0, 10], [0, 2], [1, 2], [2, 4], [2, 2], [9, 1]]\n",
      "[[9, 1], [0, 2], [1, 2], [2, 2], [2, 4], [0, 10]]\n"
     ]
    }
   ],
   "source": [
    "ar = [[2, 4], [1, 2], [9, 1], [0, 10], [0, 2], [2, 2]]\n",
    "\n",
    "ar.sort(key=lambda x: x[0])\n",
    "print(ar)\n",
    "\n",
    "ar.sort(key=lambda x: x[1])\n",
    "print(ar)\n",
    "\n"
   ]
  }
 ],
 "metadata": {
  "kernelspec": {
   "display_name": "back_train",
   "language": "python",
   "name": "python3"
  },
  "language_info": {
   "codemirror_mode": {
    "name": "ipython",
    "version": 3
   },
   "file_extension": ".py",
   "mimetype": "text/x-python",
   "name": "python",
   "nbconvert_exporter": "python",
   "pygments_lexer": "ipython3",
   "version": "3.9.17"
  }
 },
 "nbformat": 4,
 "nbformat_minor": 2
}
