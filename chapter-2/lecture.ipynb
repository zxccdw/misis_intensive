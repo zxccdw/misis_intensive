{
 "cells": [
  {
   "cell_type": "markdown",
   "metadata": {},
   "source": [
    "### Ввод через консоль\n",
    "Для ввода данных в программу используется функция input(), которая считывает строку до пробела"
   ]
  },
  {
   "cell_type": "code",
   "execution_count": null,
   "metadata": {},
   "outputs": [],
   "source": [
    "a = input()\n",
    "a"
   ]
  },
  {
   "cell_type": "code",
   "execution_count": null,
   "metadata": {},
   "outputs": [],
   "source": [
    "# Чтобы получить на вход какое-либо значение другого\n",
    "# типа, используете input вместе с соотвествующей функцией\n",
    "a = int(input())  # выдаст Int\n",
    "a"
   ]
  },
  {
   "cell_type": "code",
   "execution_count": null,
   "metadata": {},
   "outputs": [],
   "source": [
    "# Если необходимо ввести несколько значений,\n",
    "# можно использовать split('sep'), который делит строку 'sep' - по умолчанию пробел\n",
    "# на массив строк по пробелам\n",
    "a = input()\n",
    "b = a.split()\n",
    "a, b"
   ]
  },
  {
   "cell_type": "markdown",
   "metadata": {},
   "source": [
    "### Типы данных\n",
    "\n",
    "Основные типы данных:\n"
   ]
  },
  {
   "cell_type": "markdown",
   "metadata": {},
   "source": [
    "#### 1. Int - целочисленный тип.<br>\n"
   ]
  },
  {
   "cell_type": "code",
   "execution_count": null,
   "metadata": {},
   "outputs": [],
   "source": [
    "a = 9\n",
    "b = 4 * 10  # можно сразу присваивать выражение\n",
    "c = 10 - 3\n",
    "d = 66\n",
    "a, b, c, d"
   ]
  },
  {
   "cell_type": "code",
   "execution_count": null,
   "metadata": {},
   "outputs": [],
   "source": [
    "# Операторы\n",
    "# Cложения и вычитания\n",
    "2 + 1, 9 - 4"
   ]
  },
  {
   "cell_type": "code",
   "execution_count": null,
   "metadata": {},
   "outputs": [],
   "source": [
    "# Умножения и целочисленного деления\n",
    "a = 8 * 2\n",
    "b = 10 // 3\n",
    "# Существует также обычное деление,\n",
    "# но оно всегда возвращает тип float\n",
    "c = 10 / 2\n",
    "a, b, c"
   ]
  },
  {
   "cell_type": "code",
   "execution_count": null,
   "metadata": {},
   "outputs": [],
   "source": [
    "# Взятия остатка и возведения в степень\n",
    "10 % 3, 9**3"
   ]
  },
  {
   "cell_type": "markdown",
   "metadata": {},
   "source": [
    "#### 2. Float - число с плавающей точкой  "
   ]
  },
  {
   "cell_type": "code",
   "execution_count": null,
   "metadata": {},
   "outputs": [],
   "source": [
    "a = 4000.0\n",
    "b = 4.2 * 9.1\n",
    "c = 22.0 / 7\n",
    "a, b, c"
   ]
  },
  {
   "cell_type": "code",
   "execution_count": null,
   "metadata": {},
   "outputs": [],
   "source": [
    "# У Float операторы аналогичны операторам int, за исключением:\n",
    "# Деление\n",
    "10.0 / 3.0"
   ]
  },
  {
   "cell_type": "code",
   "execution_count": 9,
   "metadata": {},
   "outputs": [
    {
     "data": {
      "text/plain": [
       "inf"
      ]
     },
     "execution_count": 9,
     "metadata": {},
     "output_type": "execute_result"
    }
   ],
   "source": [
    "a = float('inf') # создание бесконечной переменной\n",
    "a"
   ]
  },
  {
   "cell_type": "markdown",
   "metadata": {},
   "source": [
    "#### 3. Bool - логический тип, может принимать только True(правда) или False(ложь)  "
   ]
  },
  {
   "cell_type": "code",
   "execution_count": null,
   "metadata": {},
   "outputs": [],
   "source": [
    "a = True\n",
    "b = False\n",
    "c = b or a  # or - дизъюнкция, логическое ИЛИ\n",
    "a, b, c"
   ]
  },
  {
   "cell_type": "code",
   "execution_count": null,
   "metadata": {},
   "outputs": [],
   "source": [
    "# Операторы\n",
    "a = True or False  # дизъюнкция, логическое ИЛИ\n",
    "b = True and False  # конъюнкция, логическо И\n",
    "c = not True  # логическое отрицание\n",
    "\n",
    "a, b, c"
   ]
  },
  {
   "cell_type": "markdown",
   "metadata": {},
   "source": [
    "#### 4. Str - строковый тип, может быть любой длины."
   ]
  },
  {
   "cell_type": "code",
   "execution_count": null,
   "metadata": {},
   "outputs": [],
   "source": [
    "# Записывается через кавычки, как одинарные и двойные, так и тройные\n",
    "a = \"Hello, 'my' World\"\n",
    "\n",
    "# можно миксовать кавычки\n",
    "b = 'Hello, \"User\"'\n",
    "\n",
    "# Тройные кавычки позволяют писать длинно\n",
    "c = \"\"\"Very\n",
    "Long\n",
    "Text\n",
    "\"\"\"\n",
    "a, b, c"
   ]
  },
  {
   "cell_type": "code",
   "execution_count": null,
   "metadata": {},
   "outputs": [],
   "source": [
    "# Операторы\n",
    "a = \"Hello\" + \" World\"  # конкатенация, то есть сложение строк\n",
    "b = \"Hello\" * 2 # то же сложение\n",
    "a, b"
   ]
  },
  {
   "cell_type": "code",
   "execution_count": null,
   "metadata": {},
   "outputs": [],
   "source": [
    "# Cлайсы и индексация\n",
    "# Индексация - взятие отдельного элемента по его индексу\n",
    "# Нумерация всегда начинается с нуля\n",
    "a = \"Hello, World\"\n",
    "a[0], a[2]  # 0 элемент в \"Hello Wolrd\" - H, 2 - l"
   ]
  },
  {
   "cell_type": "code",
   "execution_count": null,
   "metadata": {},
   "outputs": [],
   "source": [
    "# Слайсинг - получение подлиста или подстроки.\n",
    "# Формат: [начальный индекс : конечный (не включая) : шаг]\n",
    "# Например, нам нужно получить только слово Hello в \"Hello, World\"\n",
    "# , тогда начинаем с 0, заканчиваем 5 (0, 1, 2, 3, 4)\n",
    "a = \"Hello, World\"\n",
    "a[0:5]"
   ]
  },
  {
   "cell_type": "code",
   "execution_count": null,
   "metadata": {},
   "outputs": [],
   "source": [
    "a = \"Hello, World\"\n",
    "a[:5]  # Пустой первый аргумент автоматически заменяется на 0"
   ]
  },
  {
   "cell_type": "code",
   "execution_count": null,
   "metadata": {},
   "outputs": [],
   "source": [
    "a[::2]"
   ]
  },
  {
   "cell_type": "code",
   "execution_count": null,
   "metadata": {},
   "outputs": [],
   "source": [
    "# Отрицательные индекс считает с конца,\n",
    "# то есть заменяется на len(a) - 5, что равно 7\n",
    "\n",
    "a[-5:], a[7:]"
   ]
  },
  {
   "cell_type": "code",
   "execution_count": null,
   "metadata": {},
   "outputs": [],
   "source": [
    "a[::-1]  # Такая запись повзоляет перевернуть строчку или лист"
   ]
  },
  {
   "cell_type": "markdown",
   "metadata": {},
   "source": [
    "``` sh\n",
    "+---+---+---+---+---+---+---+---+---+---+---+---+\n",
    "| P | y | t | h | o | n | P | y | t | h | o | n |\n",
    "+---+---+---+---+---+---+---+---+---+---+---+---+\n",
    " -6  -5  -4  -3  -2  -1   0   1   2   3   4   5\n",
    "```"
   ]
  },
  {
   "cell_type": "code",
   "execution_count": null,
   "metadata": {},
   "outputs": [],
   "source": [
    "a = \"Привет, {}, {}\".format(\"ITAM\", \"Г511\")\n",
    "a"
   ]
  },
  {
   "cell_type": "code",
   "execution_count": null,
   "metadata": {},
   "outputs": [],
   "source": [
    "name = \"ITAM\"\n",
    "f\"Привет, {name}\""
   ]
  },
  {
   "cell_type": "code",
   "execution_count": null,
   "metadata": {},
   "outputs": [],
   "source": [
    "a = [\"Антон\", \"Илья\", \"Астольфо\", \"Михаил\"]\n",
    "\"+\".join(a)"
   ]
  },
  {
   "cell_type": "code",
   "execution_count": null,
   "metadata": {},
   "outputs": [],
   "source": [
    "a = \"Длинный\\nдлинный, текст,с,пробелами\"\n",
    "a.split(\"\\n\")"
   ]
  },
  {
   "cell_type": "markdown",
   "metadata": {},
   "source": [
    "### Условные операторы\n",
    "\n",
    "Для управлением работы скрипта используются условные операторы, которые заставляют программу что-либо делать при каком-либо условие.  \n",
    "Формат:\n",
    "``` python\n",
    "if <условие>:\n",
    "    <блок кода> # Выполниться, если условие выше истинно\n",
    "[elif <условие>:\n",
    "    <блок кода>] # Выполниться, если выше условия НЕ истинны, а это истинно\n",
    "[else:\n",
    "    <блок кода>] # Выполниться, если все условия выше НЕ истинны\n",
    "```"
   ]
  },
  {
   "cell_type": "code",
   "execution_count": null,
   "metadata": {},
   "outputs": [],
   "source": [
    "# Примеры\n",
    "name_is = False\n",
    "if name_is:\n",
    "    print(\"Hi, Peter\")\n",
    "else:\n",
    "    print(\"Hi, User\")"
   ]
  },
  {
   "cell_type": "code",
   "execution_count": null,
   "metadata": {},
   "outputs": [],
   "source": [
    "a = 2 + 2\n",
    "if a == 4:\n",
    "    print(\"We live in society\")\n",
    "elif a == 5:\n",
    "    print(\"We live in oceania\")\n",
    "else:\n",
    "    print(\"???\")"
   ]
  },
  {
   "cell_type": "code",
   "execution_count": null,
   "metadata": {},
   "outputs": [],
   "source": [
    "\"\"\"\n",
    "Работайте с if осторожно, если на вход подаётся тип данных, \n",
    "отличный от bool, происходит перевод к bool. \n",
    "При этом разные типы данных по разному возвращают истинность\n",
    "\"\"\"\n",
    "if 0:\n",
    "    print(\"0 - ложь\")\n",
    "elif 1:\n",
    "    print(\"1 - истинна\")"
   ]
  },
  {
   "cell_type": "code",
   "execution_count": null,
   "metadata": {},
   "outputs": [],
   "source": [
    "if \"False\":\n",
    "    print(\"А вот НЕ пустая строка всегда истинна\")\n",
    "if \"\":\n",
    "    print(\"А пустая - ложна\")"
   ]
  },
  {
   "cell_type": "code",
   "execution_count": null,
   "metadata": {},
   "outputs": [],
   "source": [
    "if [False]:\n",
    "    print(\"Аналогично с листами\")\n",
    "if []:\n",
    "    print(\"Не сработает\")"
   ]
  },
  {
   "cell_type": "markdown",
   "metadata": {},
   "source": [
    "### Циклы\n",
    "В питоне существуют 2 цикла, for и while"
   ]
  },
  {
   "cell_type": "markdown",
   "metadata": {},
   "source": [
    "\n",
    "#### Цикл for\n",
    "Формат:\n",
    "``` python\n",
    "for <переменная для итерирования> in <объект итерирования>:\n",
    "    <тело цикла>\n",
    "```\n",
    "Например:\n",
    "``` python\n",
    "for i in [1, 2, 3]:\n",
    "    print(i) # будет напечатано: 1\\n2\\n3\\n\n",
    "```\n",
    "Принимает на вход любой объект, по которому можно проитерироваться, будь то, например, лист или строка.  \n",
    "`range(<начало>, <конец>, <шаг>)` - генератор, что создаёт объект для итерации, синтаксис, по сути, как у слайсов "
   ]
  },
  {
   "cell_type": "code",
   "execution_count": null,
   "metadata": {},
   "outputs": [],
   "source": [
    "for i in range(10):\n",
    "    print(\"I love python\", end=\" \")  # end - аргумент print,\n",
    "    # который указывает какой символ будет поставлен в конце строки"
   ]
  },
  {
   "cell_type": "code",
   "execution_count": null,
   "metadata": {},
   "outputs": [],
   "source": [
    "for i in [1, 2, 3, 4]:\n",
    "    print(i - 1)"
   ]
  },
  {
   "cell_type": "markdown",
   "metadata": {},
   "source": [
    "#### Цикл While\n",
    "Формат:\n",
    "``` python\n",
    "while <Условие>:\n",
    "    <тело цикла>\n",
    "```\n",
    "Например:\n",
    "``` python\n",
    "idx = 0\n",
    "while idx < 3:\n",
    "    print(idx, end=' ') # 0 1 2 \n",
    "    idx+=1\n",
    "```\n",
    "Цикл while выполняется, пока условие истинно. Как и с if, можно неявно приводить к логическому типу:"
   ]
  },
  {
   "cell_type": "code",
   "execution_count": null,
   "metadata": {},
   "outputs": [],
   "source": [
    "list_ = [1, 2, 3, 4, 5, 6]\n",
    "while list_:\n",
    "    # .pop() - метод листов, который удаляет последний\n",
    "    # элемент листа и возвращает его\n",
    "    print(list_.pop(), end=\", \")"
   ]
  },
  {
   "cell_type": "markdown",
   "metadata": {},
   "source": [
    "#### Другие способы контролирования потока \n",
    "\n",
    "##### Break\n",
    "Инструкция `break` позволяет выйти из ближайщего цикла"
   ]
  },
  {
   "cell_type": "code",
   "execution_count": null,
   "metadata": {},
   "outputs": [],
   "source": [
    "for i in range(10):\n",
    "    print(i, end=\" \")\n",
    "    if i == 5:\n",
    "        break"
   ]
  },
  {
   "cell_type": "markdown",
   "metadata": {},
   "source": [
    "##### Continue\n",
    "Позволяет пропустить остаток кода в цикле и сразу перейти к следующей итерации"
   ]
  },
  {
   "cell_type": "code",
   "execution_count": null,
   "metadata": {},
   "outputs": [],
   "source": [
    "for i in range(10):\n",
    "    if i % 2 == 0:\n",
    "        continue\n",
    "    print(i, end=\" \")"
   ]
  },
  {
   "cell_type": "markdown",
   "metadata": {},
   "source": [
    "### Работа с файлами. Контекстныe менеджеры."
   ]
  },
  {
   "cell_type": "markdown",
   "metadata": {},
   "source": [
    ">«Контекстные менеджеры в Python — это удивительный механизм, который позволяет гарантировать корректное управление ресурсами и обеспечивать безопасное выполнение кода.» — Гвидо ван Россум, великодушный пожизненный диктатор Python."
   ]
  },
  {
   "cell_type": "code",
   "execution_count": null,
   "metadata": {},
   "outputs": [],
   "source": [
    "file = open(\"example.txt\", \"r\")\n",
    "try:\n",
    "    # Действия с файлом\n",
    "    content = file.read()\n",
    "    print(content)\n",
    "finally:\n",
    "    file.close()"
   ]
  },
  {
   "cell_type": "code",
   "execution_count": null,
   "metadata": {},
   "outputs": [],
   "source": [
    "with open(\"example.txt\", \"r\") as file: # с контекстным менеджером\n",
    "    content = file.read()\n",
    "    print(content)\n",
    "# --> file.close()"
   ]
  },
  {
   "cell_type": "markdown",
   "metadata": {},
   "source": [
    "Работа с csv..."
   ]
  },
  {
   "cell_type": "markdown",
   "metadata": {},
   "source": [
    "Вывод в файл:\n",
    "```python\n",
    "    file.write() \n",
    "    print(\"...\", file=file)\n",
    "```\n",
    "    "
   ]
  }
 ],
 "metadata": {
  "kernelspec": {
   "display_name": "Python 3",
   "language": "python",
   "name": "python3"
  },
  "language_info": {
   "codemirror_mode": {
    "name": "ipython",
    "version": 3
   },
   "file_extension": ".py",
   "mimetype": "text/x-python",
   "name": "python",
   "nbconvert_exporter": "python",
   "pygments_lexer": "ipython3",
   "version": "3.11.6"
  }
 },
 "nbformat": 4,
 "nbformat_minor": 2
}
